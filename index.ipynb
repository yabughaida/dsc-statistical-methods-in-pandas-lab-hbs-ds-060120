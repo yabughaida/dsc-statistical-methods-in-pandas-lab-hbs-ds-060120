{
 "cells": [
  {
   "cell_type": "markdown",
   "metadata": {},
   "source": [
    "# Statistical Methods in Pandas - Lab"
   ]
  },
  {
   "cell_type": "markdown",
   "metadata": {},
   "source": [
    "## Introduction\n",
    "\n",
    "In this lab you'll get some hands-on experience using some of the key summary statistics methods in Pandas."
   ]
  },
  {
   "cell_type": "markdown",
   "metadata": {},
   "source": [
    "## Objectives\n",
    "You will be able to:\n",
    "\n",
    "- Calculate summary statistics for a series and DataFrame \n",
    "- Use the `.apply()` or `.applymap()` methods to apply a function to a pandas series or DataFrame  \n",
    "\n",
    "\n",
    "## Getting Started\n",
    "\n",
    "For this lab, we'll be working with a dataset containing information on various lego datasets. You will find this dataset in the file `'lego_sets.csv'`.   \n",
    "\n",
    "In the cell below:\n",
    "\n",
    "- Import Pandas and set the standard alias of `pd`\n",
    "- Import the `'lego_sets.csv'` dataset \n",
    "- Display the first five rows of the DataFrame to get a feel for what we'll be working with"
   ]
  },
  {
   "cell_type": "code",
   "execution_count": 2,
   "metadata": {},
   "outputs": [
    {
     "data": {
      "text/html": [
       "<div>\n",
       "<style scoped>\n",
       "    .dataframe tbody tr th:only-of-type {\n",
       "        vertical-align: middle;\n",
       "    }\n",
       "\n",
       "    .dataframe tbody tr th {\n",
       "        vertical-align: top;\n",
       "    }\n",
       "\n",
       "    .dataframe thead th {\n",
       "        text-align: right;\n",
       "    }\n",
       "</style>\n",
       "<table border=\"1\" class=\"dataframe\">\n",
       "  <thead>\n",
       "    <tr style=\"text-align: right;\">\n",
       "      <th></th>\n",
       "      <th>ages</th>\n",
       "      <th>list_price</th>\n",
       "      <th>num_reviews</th>\n",
       "      <th>piece_count</th>\n",
       "      <th>play_star_rating</th>\n",
       "      <th>prod_desc</th>\n",
       "      <th>prod_id</th>\n",
       "      <th>prod_long_desc</th>\n",
       "      <th>review_difficulty</th>\n",
       "      <th>set_name</th>\n",
       "      <th>star_rating</th>\n",
       "      <th>theme_name</th>\n",
       "      <th>val_star_rating</th>\n",
       "      <th>country</th>\n",
       "    </tr>\n",
       "  </thead>\n",
       "  <tbody>\n",
       "    <tr>\n",
       "      <td>0</td>\n",
       "      <td>6-12</td>\n",
       "      <td>29.99</td>\n",
       "      <td>2.0</td>\n",
       "      <td>277.0</td>\n",
       "      <td>4.0</td>\n",
       "      <td>Catapult into action and take back the eggs fr...</td>\n",
       "      <td>75823.0</td>\n",
       "      <td>Use the staircase catapult to launch Red into ...</td>\n",
       "      <td>Average</td>\n",
       "      <td>Bird Island Egg Heist</td>\n",
       "      <td>4.5</td>\n",
       "      <td>Angry Birds™</td>\n",
       "      <td>4.0</td>\n",
       "      <td>US</td>\n",
       "    </tr>\n",
       "    <tr>\n",
       "      <td>1</td>\n",
       "      <td>6-12</td>\n",
       "      <td>19.99</td>\n",
       "      <td>2.0</td>\n",
       "      <td>168.0</td>\n",
       "      <td>4.0</td>\n",
       "      <td>Launch a flying attack and rescue the eggs fro...</td>\n",
       "      <td>75822.0</td>\n",
       "      <td>Pilot Pig has taken off from Bird Island with ...</td>\n",
       "      <td>Easy</td>\n",
       "      <td>Piggy Plane Attack</td>\n",
       "      <td>5.0</td>\n",
       "      <td>Angry Birds™</td>\n",
       "      <td>4.0</td>\n",
       "      <td>US</td>\n",
       "    </tr>\n",
       "    <tr>\n",
       "      <td>2</td>\n",
       "      <td>6-12</td>\n",
       "      <td>12.99</td>\n",
       "      <td>11.0</td>\n",
       "      <td>74.0</td>\n",
       "      <td>4.3</td>\n",
       "      <td>Chase the piggy with lightning-fast Chuck and ...</td>\n",
       "      <td>75821.0</td>\n",
       "      <td>Pitch speedy bird Chuck against the Piggy Car....</td>\n",
       "      <td>Easy</td>\n",
       "      <td>Piggy Car Escape</td>\n",
       "      <td>4.3</td>\n",
       "      <td>Angry Birds™</td>\n",
       "      <td>4.1</td>\n",
       "      <td>US</td>\n",
       "    </tr>\n",
       "    <tr>\n",
       "      <td>3</td>\n",
       "      <td>12+</td>\n",
       "      <td>99.99</td>\n",
       "      <td>23.0</td>\n",
       "      <td>1032.0</td>\n",
       "      <td>3.6</td>\n",
       "      <td>Explore the architecture of the United States ...</td>\n",
       "      <td>21030.0</td>\n",
       "      <td>Discover the architectural secrets of the icon...</td>\n",
       "      <td>Average</td>\n",
       "      <td>United States Capitol Building</td>\n",
       "      <td>4.6</td>\n",
       "      <td>Architecture</td>\n",
       "      <td>4.3</td>\n",
       "      <td>US</td>\n",
       "    </tr>\n",
       "    <tr>\n",
       "      <td>4</td>\n",
       "      <td>12+</td>\n",
       "      <td>79.99</td>\n",
       "      <td>14.0</td>\n",
       "      <td>744.0</td>\n",
       "      <td>3.2</td>\n",
       "      <td>Recreate the Solomon R. Guggenheim Museum® wit...</td>\n",
       "      <td>21035.0</td>\n",
       "      <td>Discover the architectural secrets of Frank Ll...</td>\n",
       "      <td>Challenging</td>\n",
       "      <td>Solomon R. Guggenheim Museum®</td>\n",
       "      <td>4.6</td>\n",
       "      <td>Architecture</td>\n",
       "      <td>4.1</td>\n",
       "      <td>US</td>\n",
       "    </tr>\n",
       "  </tbody>\n",
       "</table>\n",
       "</div>"
      ],
      "text/plain": [
       "   ages  list_price  num_reviews  piece_count  play_star_rating  \\\n",
       "0  6-12       29.99          2.0        277.0               4.0   \n",
       "1  6-12       19.99          2.0        168.0               4.0   \n",
       "2  6-12       12.99         11.0         74.0               4.3   \n",
       "3   12+       99.99         23.0       1032.0               3.6   \n",
       "4   12+       79.99         14.0        744.0               3.2   \n",
       "\n",
       "                                           prod_desc  prod_id  \\\n",
       "0  Catapult into action and take back the eggs fr...  75823.0   \n",
       "1  Launch a flying attack and rescue the eggs fro...  75822.0   \n",
       "2  Chase the piggy with lightning-fast Chuck and ...  75821.0   \n",
       "3  Explore the architecture of the United States ...  21030.0   \n",
       "4  Recreate the Solomon R. Guggenheim Museum® wit...  21035.0   \n",
       "\n",
       "                                      prod_long_desc review_difficulty  \\\n",
       "0  Use the staircase catapult to launch Red into ...           Average   \n",
       "1  Pilot Pig has taken off from Bird Island with ...              Easy   \n",
       "2  Pitch speedy bird Chuck against the Piggy Car....              Easy   \n",
       "3  Discover the architectural secrets of the icon...           Average   \n",
       "4  Discover the architectural secrets of Frank Ll...       Challenging   \n",
       "\n",
       "                         set_name  star_rating    theme_name  val_star_rating  \\\n",
       "0           Bird Island Egg Heist          4.5  Angry Birds™              4.0   \n",
       "1              Piggy Plane Attack          5.0  Angry Birds™              4.0   \n",
       "2                Piggy Car Escape          4.3  Angry Birds™              4.1   \n",
       "3  United States Capitol Building          4.6  Architecture              4.3   \n",
       "4   Solomon R. Guggenheim Museum®          4.6  Architecture              4.1   \n",
       "\n",
       "  country  \n",
       "0      US  \n",
       "1      US  \n",
       "2      US  \n",
       "3      US  \n",
       "4      US  "
      ]
     },
     "execution_count": 2,
     "metadata": {},
     "output_type": "execute_result"
    }
   ],
   "source": [
    "# Import pandas\n",
    "import pandas as pd\n",
    "\n",
    "# Import the 'lego_sets.csv' dataset\n",
    "df = pd.read_csv('lego_sets.csv')\n",
    "\n",
    "# Print the first five rows of DataFrame\n",
    "df.head()"
   ]
  },
  {
   "cell_type": "markdown",
   "metadata": {},
   "source": [
    "## Getting DataFrame-Level Statistics\n",
    "\n",
    "We'll begin by getting some overall summary statistics on the dataset. There are two ways we'll get this information -- `.info()` and `.describe()`.\n",
    "\n",
    "The `.info()` method provides us metadata on the DataFrame itself. This allows us to answer questions such as:\n",
    "\n",
    "* What data type does each column contain?\n",
    "* How many rows are in my dataset? \n",
    "* How many total non-missing values does each column contain?\n",
    "* How much memory does the DataFrame take up?\n",
    "\n",
    "In the cell below, call our DataFrame's `.info()` method. "
   ]
  },
  {
   "cell_type": "code",
   "execution_count": 3,
   "metadata": {},
   "outputs": [
    {
     "name": "stdout",
     "output_type": "stream",
     "text": [
      "<class 'pandas.core.frame.DataFrame'>\n",
      "RangeIndex: 12261 entries, 0 to 12260\n",
      "Data columns (total 14 columns):\n",
      "ages                 12261 non-null object\n",
      "list_price           12261 non-null float64\n",
      "num_reviews          10641 non-null float64\n",
      "piece_count          12261 non-null float64\n",
      "play_star_rating     10486 non-null float64\n",
      "prod_desc            11884 non-null object\n",
      "prod_id              12261 non-null float64\n",
      "prod_long_desc       12261 non-null object\n",
      "review_difficulty    10206 non-null object\n",
      "set_name             12261 non-null object\n",
      "star_rating          10641 non-null float64\n",
      "theme_name           12258 non-null object\n",
      "val_star_rating      10466 non-null float64\n",
      "country              12261 non-null object\n",
      "dtypes: float64(7), object(7)\n",
      "memory usage: 1.3+ MB\n"
     ]
    }
   ],
   "source": [
    "# Call the .info() method\n",
    "df.info()"
   ]
  },
  {
   "cell_type": "markdown",
   "metadata": {},
   "source": [
    "#### Interpreting the Results\n",
    "\n",
    "Read the output above, and then answer the following questions:\n",
    "\n",
    "- How many total rows are in this DataFrame?  \n",
    "- How many columns contain numeric data? \n",
    "- How many contain categorical data? \n",
    "- Identify at least 3 columns that contain missing values. \n",
    "\n",
    "Write your answer below this line:\n",
    "________________________________________________________________________________________________________________________________"
   ]
  },
  {
   "cell_type": "markdown",
   "metadata": {},
   "source": [
    "Whereas `.info()` provides statistics about the DataFrame itself, `.describe()` returns output containing basic summary statistics about the data contained with the DataFrame.  \n",
    "\n",
    "In the cell below, call the DataFrame's `.describe()` method. "
   ]
  },
  {
   "cell_type": "code",
   "execution_count": 4,
   "metadata": {},
   "outputs": [
    {
     "data": {
      "text/html": [
       "<div>\n",
       "<style scoped>\n",
       "    .dataframe tbody tr th:only-of-type {\n",
       "        vertical-align: middle;\n",
       "    }\n",
       "\n",
       "    .dataframe tbody tr th {\n",
       "        vertical-align: top;\n",
       "    }\n",
       "\n",
       "    .dataframe thead th {\n",
       "        text-align: right;\n",
       "    }\n",
       "</style>\n",
       "<table border=\"1\" class=\"dataframe\">\n",
       "  <thead>\n",
       "    <tr style=\"text-align: right;\">\n",
       "      <th></th>\n",
       "      <th>list_price</th>\n",
       "      <th>num_reviews</th>\n",
       "      <th>piece_count</th>\n",
       "      <th>play_star_rating</th>\n",
       "      <th>prod_id</th>\n",
       "      <th>star_rating</th>\n",
       "      <th>val_star_rating</th>\n",
       "    </tr>\n",
       "  </thead>\n",
       "  <tbody>\n",
       "    <tr>\n",
       "      <td>count</td>\n",
       "      <td>12261.000000</td>\n",
       "      <td>10641.000000</td>\n",
       "      <td>12261.000000</td>\n",
       "      <td>10486.000000</td>\n",
       "      <td>1.226100e+04</td>\n",
       "      <td>10641.000000</td>\n",
       "      <td>10466.000000</td>\n",
       "    </tr>\n",
       "    <tr>\n",
       "      <td>mean</td>\n",
       "      <td>65.141998</td>\n",
       "      <td>16.826238</td>\n",
       "      <td>493.405921</td>\n",
       "      <td>4.337641</td>\n",
       "      <td>5.983675e+04</td>\n",
       "      <td>4.514134</td>\n",
       "      <td>4.228960</td>\n",
       "    </tr>\n",
       "    <tr>\n",
       "      <td>std</td>\n",
       "      <td>91.980429</td>\n",
       "      <td>36.368984</td>\n",
       "      <td>825.364580</td>\n",
       "      <td>0.652051</td>\n",
       "      <td>1.638115e+05</td>\n",
       "      <td>0.518865</td>\n",
       "      <td>0.660282</td>\n",
       "    </tr>\n",
       "    <tr>\n",
       "      <td>min</td>\n",
       "      <td>2.272400</td>\n",
       "      <td>1.000000</td>\n",
       "      <td>1.000000</td>\n",
       "      <td>1.000000</td>\n",
       "      <td>6.300000e+02</td>\n",
       "      <td>1.800000</td>\n",
       "      <td>1.000000</td>\n",
       "    </tr>\n",
       "    <tr>\n",
       "      <td>25%</td>\n",
       "      <td>19.990000</td>\n",
       "      <td>2.000000</td>\n",
       "      <td>97.000000</td>\n",
       "      <td>4.000000</td>\n",
       "      <td>2.103400e+04</td>\n",
       "      <td>4.300000</td>\n",
       "      <td>4.000000</td>\n",
       "    </tr>\n",
       "    <tr>\n",
       "      <td>50%</td>\n",
       "      <td>36.587800</td>\n",
       "      <td>6.000000</td>\n",
       "      <td>216.000000</td>\n",
       "      <td>4.500000</td>\n",
       "      <td>4.206900e+04</td>\n",
       "      <td>4.700000</td>\n",
       "      <td>4.300000</td>\n",
       "    </tr>\n",
       "    <tr>\n",
       "      <td>75%</td>\n",
       "      <td>70.192200</td>\n",
       "      <td>13.000000</td>\n",
       "      <td>544.000000</td>\n",
       "      <td>4.800000</td>\n",
       "      <td>7.092200e+04</td>\n",
       "      <td>5.000000</td>\n",
       "      <td>4.700000</td>\n",
       "    </tr>\n",
       "    <tr>\n",
       "      <td>max</td>\n",
       "      <td>1104.870000</td>\n",
       "      <td>367.000000</td>\n",
       "      <td>7541.000000</td>\n",
       "      <td>5.000000</td>\n",
       "      <td>2.000431e+06</td>\n",
       "      <td>5.000000</td>\n",
       "      <td>5.000000</td>\n",
       "    </tr>\n",
       "  </tbody>\n",
       "</table>\n",
       "</div>"
      ],
      "text/plain": [
       "         list_price   num_reviews   piece_count  play_star_rating  \\\n",
       "count  12261.000000  10641.000000  12261.000000      10486.000000   \n",
       "mean      65.141998     16.826238    493.405921          4.337641   \n",
       "std       91.980429     36.368984    825.364580          0.652051   \n",
       "min        2.272400      1.000000      1.000000          1.000000   \n",
       "25%       19.990000      2.000000     97.000000          4.000000   \n",
       "50%       36.587800      6.000000    216.000000          4.500000   \n",
       "75%       70.192200     13.000000    544.000000          4.800000   \n",
       "max     1104.870000    367.000000   7541.000000          5.000000   \n",
       "\n",
       "            prod_id   star_rating  val_star_rating  \n",
       "count  1.226100e+04  10641.000000     10466.000000  \n",
       "mean   5.983675e+04      4.514134         4.228960  \n",
       "std    1.638115e+05      0.518865         0.660282  \n",
       "min    6.300000e+02      1.800000         1.000000  \n",
       "25%    2.103400e+04      4.300000         4.000000  \n",
       "50%    4.206900e+04      4.700000         4.300000  \n",
       "75%    7.092200e+04      5.000000         4.700000  \n",
       "max    2.000431e+06      5.000000         5.000000  "
      ]
     },
     "execution_count": 4,
     "metadata": {},
     "output_type": "execute_result"
    }
   ],
   "source": [
    "# Call the .describe() method\n",
    "df.describe()"
   ]
  },
  {
   "cell_type": "markdown",
   "metadata": {},
   "source": [
    "#### Interpreting the Results\n",
    "\n",
    "The output contains descriptive statistics corresponding to the columns. Use these to answer the following questions:\n",
    "\n",
    "- How much is the standard deviation for `piece count`? \n",
    "- How many pieces are in the largest lego set?\n",
    "- How many in the smallest lego set? What is the median `val_star_rating`?\n",
    "\n",
    "________________________________________________________________________________________________________________________________"
   ]
  },
  {
   "cell_type": "markdown",
   "metadata": {},
   "source": [
    "## Getting Summary Statistics\n",
    "\n",
    "Pandas also allows us to easily compute individual summary statistics using built-in methods.  Next, we'll get some practice using these methods. \n",
    "\n",
    "In the cell below, compute the median value of the `star_rating` column."
   ]
  },
  {
   "cell_type": "code",
   "execution_count": 11,
   "metadata": {},
   "outputs": [
    {
     "data": {
      "text/plain": [
       "4.7"
      ]
     },
     "execution_count": 11,
     "metadata": {},
     "output_type": "execute_result"
    }
   ],
   "source": [
    "# Calculate the median of the star_rating column\n",
    "df['star_rating'].median()"
   ]
  },
  {
   "cell_type": "markdown",
   "metadata": {},
   "source": [
    "Next, get a count of the total number of unique values in `play_star_rating`."
   ]
  },
  {
   "cell_type": "code",
   "execution_count": 14,
   "metadata": {},
   "outputs": [
    {
     "data": {
      "text/plain": [
       "30"
      ]
     },
     "execution_count": 14,
     "metadata": {},
     "output_type": "execute_result"
    }
   ],
   "source": [
    "# Print the number of unique values in play_star_rating\n",
    "df['play_star_rating'].nunique()"
   ]
  },
  {
   "cell_type": "markdown",
   "metadata": {},
   "source": [
    "Now, compute the standard deviation of the `list_price` column."
   ]
  },
  {
   "cell_type": "code",
   "execution_count": 16,
   "metadata": {},
   "outputs": [
    {
     "data": {
      "text/plain": [
       "91.9804293059243"
      ]
     },
     "execution_count": 16,
     "metadata": {},
     "output_type": "execute_result"
    }
   ],
   "source": [
    "# Calculate the standard deviation of the list_price column\n",
    "df['list_price'].std()"
   ]
  },
  {
   "cell_type": "markdown",
   "metadata": {},
   "source": [
    "If we bought every single lego set in this dataset, how many pieces would we have?  \n",
    "\n",
    "> **Note**: If you truly want to answer this accurately, and are up for the challenge, remove duplicate lego-set entries before summing the pieces. That is, many of the lego sets are listed multiple times in the dataset above, depending on the country where it is being sold and other unique parameters. If you're stuck, just practice calculating the total number of pieces in the dataset for now."
   ]
  },
  {
   "cell_type": "code",
   "execution_count": 18,
   "metadata": {},
   "outputs": [
    {
     "data": {
      "text/plain": [
       "array([2.770e+02, 1.680e+02, 7.400e+01, 1.032e+03, 7.440e+02, 5.970e+02,\n",
       "       5.980e+02, 7.800e+02, 4.680e+02, 4.440e+02, 3.860e+02, 3.210e+02,\n",
       "       3.610e+02, 8.470e+02, 7.080e+02, 2.340e+02, 1.600e+02, 1.490e+02,\n",
       "       1.410e+02, 1.010e+02, 1.050e+02, 1.130e+02, 1.360e+02, 9.100e+01,\n",
       "       1.400e+02, 1.430e+02, 1.220e+02, 1.300e+02, 1.190e+02, 1.350e+02,\n",
       "       1.080e+02, 2.400e+02, 2.090e+02, 1.260e+02, 1.020e+02, 8.900e+01,\n",
       "       1.180e+02, 1.270e+02, 9.600e+01, 1.090e+02, 9.300e+01, 1.390e+02,\n",
       "       1.160e+02, 1.510e+02, 9.900e+01, 3.870e+02, 8.880e+02, 6.100e+02,\n",
       "       1.250e+03, 7.920e+02, 8.130e+02, 8.940e+02, 8.830e+02, 9.190e+02,\n",
       "       6.630e+02, 7.400e+02, 5.610e+02, 4.260e+02, 3.030e+02, 4.150e+02,\n",
       "       3.740e+02, 3.370e+02, 2.940e+02, 1.690e+02, 3.470e+02, 2.970e+02,\n",
       "       3.780e+02, 2.570e+02, 3.440e+02, 3.100e+02, 2.140e+02, 1.920e+02,\n",
       "       2.490e+02, 2.400e+01, 2.390e+02, 1.900e+02, 1.740e+02, 1.440e+02,\n",
       "       1.150e+02, 2.010e+02, 8.000e+00, 2.000e+00, 8.700e+01, 8.800e+01,\n",
       "       7.300e+01, 7.600e+01, 8.200e+01, 7.800e+01, 3.700e+01, 5.300e+01,\n",
       "       1.570e+02, 1.277e+03, 8.240e+02, 4.120e+02, 4.030e+02, 2.000e+02,\n",
       "       3.300e+02, 3.240e+02, 3.010e+02, 1.950e+02, 2.480e+02, 1.750e+02,\n",
       "       2.500e+02, 1.380e+02, 8.000e+01, 8.100e+01, 8.300e+01, 9.000e+01,\n",
       "       4.700e+01, 7.900e+02, 4.840e+02, 2.130e+02, 2.210e+02, 1.000e+00,\n",
       "       6.600e+01, 5.500e+01, 6.000e+01, 7.280e+02, 6.700e+02, 4.220e+02,\n",
       "       3.790e+02, 2.850e+02, 3.560e+02, 2.050e+02, 2.410e+02, 2.250e+02,\n",
       "       2.230e+02, 2.220e+02, 1.940e+02, 5.280e+02, 3.590e+02, 2.860e+02,\n",
       "       2.750e+02, 3.260e+02, 2.300e+02, 2.460e+02, 1.240e+02, 1.320e+02,\n",
       "       5.923e+03, 2.480e+03, 9.020e+02, 4.002e+03, 4.163e+03, 4.295e+03,\n",
       "       2.670e+03, 2.464e+03, 2.382e+03, 2.469e+03, 2.262e+03, 1.686e+03,\n",
       "       1.334e+03, 1.167e+03, 1.077e+03, 7.340e+02, 3.444e+03, 9.550e+02,\n",
       "       2.670e+02, 6.430e+02, 6.220e+02, 4.250e+02, 4.060e+02, 2.710e+02,\n",
       "       2.930e+02, 1.980e+02, 1.970e+02, 1.990e+02, 7.120e+02, 2.060e+02,\n",
       "       2.170e+02, 1.450e+02, 2.526e+03, 1.078e+03, 7.590e+02, 5.630e+02,\n",
       "       4.320e+02, 3.510e+02, 3.060e+02, 1.420e+02, 8.500e+01, 5.600e+01,\n",
       "       2.590e+02, 1.560e+02, 9.200e+01, 6.400e+01, 4.600e+01, 4.000e+01,\n",
       "       3.900e+01, 5.900e+01, 4.080e+03, 2.294e+03, 7.010e+02, 5.850e+02,\n",
       "       3.800e+02, 3.070e+02, 3.220e+02, 3.500e+02, 1.910e+02, 9.400e+01,\n",
       "       9.500e+01, 1.250e+02, 1.040e+02, 6.200e+01, 7.500e+01, 1.860e+02,\n",
       "       1.530e+02, 6.100e+01, 2.200e+01, 1.340e+02, 1.630e+02, 1.060e+02,\n",
       "       9.800e+01, 6.700e+01, 7.100e+01, 5.200e+01, 6.900e+01, 7.000e+01,\n",
       "       2.800e+01, 4.800e+01, 5.700e+01, 3.100e+01, 4.500e+01, 3.800e+01,\n",
       "       3.400e+01, 6.500e+01, 2.600e+01, 3.200e+01, 2.900e+01, 2.300e+01,\n",
       "       3.600e+01, 1.900e+01, 1.500e+01, 4.100e+01, 1.600e+01, 1.800e+01,\n",
       "       6.000e+00, 1.300e+01, 1.100e+02, 8.600e+01, 3.000e+01, 2.500e+01,\n",
       "       1.200e+01, 1.000e+01, 7.000e+00, 6.950e+02, 6.460e+02, 4.600e+02,\n",
       "       4.510e+02, 3.390e+02, 3.600e+02, 6.370e+02, 2.260e+02, 8.710e+02,\n",
       "       6.030e+02, 7.220e+02, 4.880e+02, 5.890e+02, 3.700e+02, 4.020e+02,\n",
       "       3.090e+02, 2.890e+02, 2.290e+02, 2.100e+02, 1.760e+02, 1.124e+03,\n",
       "       7.740e+02, 5.750e+02, 3.280e+02, 1.850e+02, 7.900e+01, 7.700e+01,\n",
       "       4.634e+03, 5.560e+02, 9.620e+02, 2.049e+03, 1.969e+03, 4.960e+02,\n",
       "       2.310e+02, 7.730e+02, 1.500e+02, 1.780e+02, 8.400e+01, 2.660e+02,\n",
       "       1.000e+02, 1.310e+02, 6.300e+01, 1.370e+02, 1.720e+02, 5.800e+01,\n",
       "       1.019e+03, 5.770e+02, 6.090e+02, 3.970e+02, 1.363e+03, 1.004e+03,\n",
       "       6.740e+02, 4.160e+02, 3.750e+02, 4.920e+02, 4.000e+02, 3.580e+02,\n",
       "       3.770e+02, 3.230e+02, 6.010e+02, 2.863e+03, 1.122e+03, 7.290e+02,\n",
       "       7.170e+02, 5.490e+02, 4.700e+02, 2.780e+02, 2.080e+02, 2.470e+02,\n",
       "       5.710e+02, 7.060e+02, 5.590e+02, 5.190e+02, 3.180e+02, 2.190e+02,\n",
       "       1.426e+03, 6.040e+02, 5.690e+02, 5.060e+02, 3.690e+02, 2.510e+02,\n",
       "       1.140e+03, 8.400e+02, 3.930e+02, 5.160e+02, 2.160e+02, 1.870e+02,\n",
       "       2.295e+03, 4.867e+03, 1.403e+03, 1.202e+03, 8.300e+02, 9.140e+02,\n",
       "       7.650e+02, 9.440e+02, 7.470e+02, 8.760e+02, 5.210e+02, 5.440e+02,\n",
       "       5.300e+02, 5.520e+02, 3.080e+02, 4.940e+02, 3.120e+02, 3.410e+02,\n",
       "       2.330e+02, 6.800e+01, 7.540e+02, 4.390e+02, 3.130e+02, 2.455e+03,\n",
       "       4.900e+03, 2.631e+03, 8.410e+02, 3.910e+02, 1.830e+02, 1.790e+02,\n",
       "       2.030e+02, 9.410e+02, 3.660e+02, 1.960e+02, 1.610e+02, 1.840e+02,\n",
       "       1.810e+02, 1.660e+02, 1.413e+03, 4.640e+02, 3.450e+02, 4.016e+03,\n",
       "       1.996e+03, 1.416e+03, 1.376e+03, 1.106e+03, 8.630e+02, 7.750e+02,\n",
       "       7.460e+02, 6.300e+02, 6.590e+02, 8.360e+02, 5.570e+02, 6.910e+02,\n",
       "       4.520e+02, 4.570e+02, 5.540e+02, 3.760e+02, 2.820e+02, 2.620e+02,\n",
       "       3.050e+02, 1.880e+02, 9.700e+01, 1.170e+02, 1.703e+03, 8.250e+02,\n",
       "       1.966e+03, 7.541e+03, 1.480e+02, 1.120e+02, 1.685e+03, 1.005e+03,\n",
       "       5.430e+02, 4.090e+02, 4.190e+02, 5.580e+02, 2.690e+02, 1.930e+02,\n",
       "       1.200e+02, 1.862e+03, 2.704e+03, 3.929e+03, 2.595e+03, 1.151e+03,\n",
       "       1.327e+03, 1.098e+03, 1.020e+03, 6.310e+02, 5.130e+02, 3.650e+02,\n",
       "       1.710e+02, 1.977e+03, 1.043e+03, 1.219e+03, 1.166e+03, 4.760e+02,\n",
       "       2.600e+02, 2.520e+02, 1.800e+02, 1.550e+02, 1.628e+03, 1.456e+03,\n",
       "       1.047e+03, 1.053e+03, 5.810e+02, 4.330e+02, 2.540e+02, 2.040e+02,\n",
       "       5.640e+02, 4.480e+02, 9.000e+02, 5.020e+02, 4.420e+02, 8.980e+02,\n",
       "       2.028e+03, 1.414e+03, 1.967e+03])"
      ]
     },
     "execution_count": 18,
     "metadata": {},
     "output_type": "execute_result"
    }
   ],
   "source": [
    "# Total number of pieces across all unique Lego sets\n",
    "df['piece_count'].unique()"
   ]
  },
  {
   "cell_type": "markdown",
   "metadata": {},
   "source": [
    "Now, let's try getting the value for the 90% quantile for all numerical columns.  Do this in the cell below."
   ]
  },
  {
   "cell_type": "code",
   "execution_count": null,
   "metadata": {},
   "outputs": [],
   "source": [
    "# Get the 90% quantile for all numerical columns\n"
   ]
  },
  {
   "cell_type": "markdown",
   "metadata": {},
   "source": [
    "## Getting Summary Statistics on Categorical Data\n",
    "\n",
    "For obvious reasons, most of the methods we've used so far only work with numerical data -- there's no way to calculate the standard deviation of a column containing string values. However, there are some things that we can discover about columns containing categorical data. \n",
    "\n",
    "In the cell below, print the unique values contained within the `review_difficulty` column. "
   ]
  },
  {
   "cell_type": "code",
   "execution_count": null,
   "metadata": {},
   "outputs": [],
   "source": [
    "# Print the unique values in the review_difficulty column"
   ]
  },
  {
   "cell_type": "markdown",
   "metadata": {},
   "source": [
    "Now, let's get the `value_counts()` for this column, to see how common each is. "
   ]
  },
  {
   "cell_type": "code",
   "execution_count": null,
   "metadata": {},
   "outputs": [],
   "source": [
    "# Get the value_counts() of the review_difficulty column\n"
   ]
  },
  {
   "cell_type": "markdown",
   "metadata": {},
   "source": [
    "As you can see, these provide us quick and easy ways to get information on columns containing categorical information.  \n",
    "\n",
    "\n",
    "## Using `.applymap()`\n",
    "\n",
    "When working with pandas DataFrames, we can quickly compute functions on the data contained by using the `.applymap()` method and passing in a lambda function. \n",
    "\n",
    "For instance, we can use `applymap()` to return a version of the DataFrame where every value has been converted to a string.\n",
    "\n",
    "In the cell below:\n",
    "\n",
    "* Call the DataFrame's `.applymap()` method and pass in `lambda x: str(x)`  \n",
    "* Call the new `string_df` object's `.info()` method to confirm that everything has been cast to a string"
   ]
  },
  {
   "cell_type": "code",
   "execution_count": null,
   "metadata": {},
   "outputs": [],
   "source": [
    "# Call the .applymap() method\n",
    "string_df = None\n",
    "\n",
    "# Call the .info() method\n"
   ]
  },
  {
   "cell_type": "markdown",
   "metadata": {},
   "source": [
    "Note that everything -- even the `NaN` values, have been cast to a string in the example above. \n",
    "\n",
    "Note that for Pandas Series objects (such as a single column in a DataFrame), we can do the same thing using the `.apply()` method.  \n",
    "\n",
    "This is just one example of how we can quickly compute custom functions on our DataFrame -- this will become especially useful when we learn how to **_normalize_** our datasets in a later section!\n",
    "\n",
    "## Summary\n",
    "\n",
    "In this lab, we learned how to:\n",
    "\n",
    "* Use the `df.describe()` and `df.info()` summary statistics methods \n",
    "* Use built-in Pandas methods for calculating summary statistics \n",
    "* Apply a function to every element in a DataFrame"
   ]
  }
 ],
 "metadata": {
  "kernelspec": {
   "display_name": "Python 3",
   "language": "python",
   "name": "python3"
  },
  "language_info": {
   "codemirror_mode": {
    "name": "ipython",
    "version": 3
   },
   "file_extension": ".py",
   "mimetype": "text/x-python",
   "name": "python",
   "nbconvert_exporter": "python",
   "pygments_lexer": "ipython3",
   "version": "3.6.9"
  }
 },
 "nbformat": 4,
 "nbformat_minor": 2
}
